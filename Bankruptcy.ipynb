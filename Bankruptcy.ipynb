{
 "cells": [
  {
   "cell_type": "code",
   "execution_count": 1,
   "metadata": {
    "pycharm": {
     "name": "#%%\n"
    }
   },
   "outputs": [],
   "source": [
    "import numpy as np\n",
    "import pandas as pd\n",
    "from knn import knn\n",
    "# from linear_discriminant_analysis import"
   ]
  },
  {
   "cell_type": "code",
   "execution_count": 2,
   "metadata": {
    "pycharm": {
     "name": "#%%\n"
    }
   },
   "outputs": [],
   "source": [
    "test = pd.read_csv('Bankruptcy/testing_zScore.csv', header=None)\n",
    "train = pd.read_csv('Bankruptcy/training_zScore.csv', header=None)"
   ]
  },
  {
   "cell_type": "code",
   "execution_count": 3,
   "metadata": {
    "pycharm": {
     "name": "#%%\n"
    }
   },
   "outputs": [],
   "source": [
    "def transform(data):\n",
    "    result = []\n",
    "    for i in range(len(data)):\n",
    "        result.append((data.loc[i, ][64], np.array(data.loc[i, ][:64])))\n",
    "    return result\n",
    "\n",
    "testing = transform(test)\n",
    "training = transform(train)\n",
    "\n",
    "# knn(1, testing, training)\n",
    "# knn(3, testing, training)\n",
    "# knn(5, testing, training)\n",
    "# knn(7, testing, training)\n",
    "\n"
   ]
  },
  {
   "cell_type": "code",
   "execution_count": 4,
   "metadata": {
    "pycharm": {
     "name": "#%%\n"
    }
   },
   "outputs": [
    {
     "name": "stdout",
     "output_type": "stream",
     "text": [
      "[[ 0.08767472 -0.04443076  0.04881991 ... -0.04374117 -0.22488793\n",
      "  -0.05686826]\n",
      " [ 0.08767472 -0.04443076  0.04881991 ... -0.04374117 -0.22488793\n",
      "  -0.05686826]\n",
      " [ 0.09193897 -0.03601916  0.05412313 ... -0.03769015 -0.31558966\n",
      "  -0.03592969]\n",
      " ...\n",
      " [-0.01090715 -0.02057122  0.03094393 ... -0.03351923 -0.35711887\n",
      "  -0.05710564]\n",
      " [ 0.19039495 -0.05964389  0.05245538 ... -0.0585668   0.8515321\n",
      "  -0.057099  ]\n",
      " [ 0.04142971 -0.06050972  0.05542375 ... -0.0550029   0.26880162\n",
      "  -0.05823961]]\n",
      "(730, 64)\n",
      "[[ 0.0029977  -0.00984306  0.02681135 ... -0.02490537 -0.41487225\n",
      "  -0.04658833]\n",
      " [ 0.0029977  -0.00984306  0.02681135 ... -0.02490537 -0.41487225\n",
      "  -0.04658833]\n",
      " [ 0.0041491  -0.01310721  0.02250564 ... -0.03021092 -0.38279001\n",
      "  -0.05906313]\n",
      " ...\n",
      " [-0.12572204 -0.04418338  0.03512483 ... -0.04377474 -0.22423611\n",
      "  -0.05856843]\n",
      " [-0.00577064 -0.02431266  0.02043274 ... -0.02557438 -0.41131847\n",
      "  -0.05881644]\n",
      " [-0.0116157  -0.03972076  0.02540772 ... -0.03612421 -0.33262637\n",
      "  -0.05896113]]\n",
      "(221, 64)\n",
      "730\n"
     ]
    }
   ],
   "source": [
    "\n"
   ]
  }
 ],
 "metadata": {
  "kernelspec": {
   "display_name": "Python 3",
   "language": "python",
   "name": "python3"
  },
  "language_info": {
   "codemirror_mode": {
    "name": "ipython",
    "version": 3
   },
   "file_extension": ".py",
   "mimetype": "text/x-python",
   "name": "python",
   "nbconvert_exporter": "python",
   "pygments_lexer": "ipython3",
   "version": "3.7.6"
  }
 },
 "nbformat": 4,
 "nbformat_minor": 1
}