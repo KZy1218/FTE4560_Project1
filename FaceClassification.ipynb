{
 "cells": [
  {
   "cell_type": "code",
   "execution_count": 5,
   "metadata": {},
   "outputs": [],
   "source": [
    "import random\n",
    "import numpy as np\n",
    "from knn import knn\n",
    "from imgRead import readImages"
   ]
  },
  {
   "cell_type": "code",
   "execution_count": 6,
   "metadata": {
    "pycharm": {
     "name": "#%%\n"
    }
   },
   "outputs": [],
   "source": [
    "path = 'new-images'\n",
    "labels, subjects = readImages(path)"
   ]
  },
  {
   "cell_type": "code",
   "execution_count": 9,
   "metadata": {
    "pycharm": {
     "name": "#%%\n"
    }
   },
   "outputs": [],
   "source": [
    "def random_select(n):\n",
    "    test, train = [], []\n",
    "    for i in range(1, 16):\n",
    "        key = 'subject' + f\"{i:02}\"\n",
    "        vec = random.sample(range(0, 11), n)\n",
    "        for j in range(11):\n",
    "            if j in vec:\n",
    "                train.append((labels[key][j], np.array(subjects[key][j])))\n",
    "            else:\n",
    "                test.append((labels[key][j], np.array(subjects[key][j])))\n",
    "    return test, train\n",
    "\n",
    "testing, training = random_select(8)"
   ]
  },
  {
   "cell_type": "code",
   "execution_count": 10,
   "metadata": {
    "pycharm": {
     "name": "#%%\n"
    }
   },
   "outputs": [
    {
     "name": "stdout",
     "output_type": "stream",
     "text": [
      "0.24444444444444444\n"
     ]
    },
    {
     "data": {
      "text/plain": "0.24444444444444444"
     },
     "execution_count": 10,
     "metadata": {},
     "output_type": "execute_result"
    }
   ],
   "source": [
    "knn(1, testing, training)\n"
   ]
  },
  {
   "cell_type": "code",
   "execution_count": 7,
   "metadata": {
    "pycharm": {
     "name": "#%%\n"
    }
   },
   "outputs": [],
   "source": []
  }
 ],
 "metadata": {
  "kernelspec": {
   "display_name": "Python 3",
   "language": "python",
   "name": "python3"
  },
  "language_info": {
   "codemirror_mode": {
    "name": "ipython",
    "version": 3
   },
   "file_extension": ".py",
   "mimetype": "text/x-python",
   "name": "python",
   "nbconvert_exporter": "python",
   "pygments_lexer": "ipython3",
   "version": "3.7.6"
  }
 },
 "nbformat": 4,
 "nbformat_minor": 1
}