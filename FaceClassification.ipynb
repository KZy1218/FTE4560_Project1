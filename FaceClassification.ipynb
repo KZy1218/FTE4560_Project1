{
 "cells": [
  {
   "cell_type": "code",
   "execution_count": 18,
   "metadata": {},
   "outputs": [],
   "source": [
    "import random\n",
    "import statistics\n",
    "import numpy as np\n",
    "import pandas as pd\n",
    "from imgRead import readImages\n"
   ]
  },
  {
   "cell_type": "code",
   "execution_count": 19,
   "metadata": {
    "pycharm": {
     "name": "#%%\n"
    }
   },
   "outputs": [],
   "source": [
    "path = 'new-images'\n",
    "labels, subjects = readImages(path)"
   ]
  },
  {
   "cell_type": "code",
   "execution_count": 23,
   "metadata": {
    "pycharm": {
     "name": "#%%\n"
    }
   },
   "outputs": [],
   "source": [
    "def random_select(n):\n",
    "    test, train = [], []\n",
    "    for i in range(1, 16):\n",
    "        key = 'subject' + f\"{i:02}\"\n",
    "        vec = random.sample(range(0, 11), n)\n",
    "        for j in range(11):\n",
    "            if j in vec:\n",
    "                train.append((labels[key][j], np.array(subjects[key][j])))\n",
    "            else:\n",
    "                test.append((labels[key][j], np.array(subjects[key][j])))\n",
    "    return test, train\n",
    "\n",
    "testing, training = random_select(8)"
   ]
  },
  {
   "cell_type": "code",
   "execution_count": 25,
   "metadata": {
    "pycharm": {
     "name": "#%%\n"
    }
   },
   "outputs": [
    {
     "data": {
      "text/plain": "0.24444444444444444"
     },
     "execution_count": 25,
     "metadata": {},
     "output_type": "execute_result"
    }
   ],
   "source": [
    "def knn(k, testing_data, training_data):\n",
    "    correct = 0\n",
    "    total = len(testing_data)\n",
    "    for i in testing_data:\n",
    "        df = pd.DataFrame(columns=['label', 'dist'])\n",
    "        for j in training_data:\n",
    "            dist = np.linalg.norm(i[1] - j[1])\n",
    "            df.loc[len(df), ] = [j[0], dist]\n",
    "        df = df.sort_values(by='dist').reset_index(drop=True).loc[:k-1, ]\n",
    "        if statistics.mode(df['label']) == i[0]:\n",
    "            correct += 1\n",
    "    return correct / total\n",
    "\n",
    "knn(1, testing, training)"
   ]
  },
  {
   "cell_type": "code",
   "execution_count": 17,
   "metadata": {
    "pycharm": {
     "name": "#%%\n"
    }
   },
   "outputs": [],
   "source": []
  }
 ],
 "metadata": {
  "kernelspec": {
   "display_name": "Python 3",
   "language": "python",
   "name": "python3"
  },
  "language_info": {
   "codemirror_mode": {
    "name": "ipython",
    "version": 3
   },
   "file_extension": ".py",
   "mimetype": "text/x-python",
   "name": "python",
   "nbconvert_exporter": "python",
   "pygments_lexer": "ipython3",
   "version": "3.7.6"
  }
 },
 "nbformat": 4,
 "nbformat_minor": 1
}